{
 "cells": [
  {
   "cell_type": "code",
   "execution_count": 1,
   "id": "df518800-cb60-4421-8e20-36f394a07746",
   "metadata": {},
   "outputs": [],
   "source": [
    "import pandas as pd\n",
    "caminho= \"p528_results_Paraleliza.csv\"\n",
    "# Carregar o arquivo CSV existente\n",
    "df = pd.read_csv(caminho)"
   ]
  },
  {
   "cell_type": "code",
   "execution_count": 2,
   "id": "38b52450-28c8-4690-8d0d-97851d388678",
   "metadata": {},
   "outputs": [
    {
     "name": "stdout",
     "output_type": "stream",
     "text": [
      "Defaulting to user installation because normal site-packages is not writeable\n",
      "Collecting cupy\n",
      "  Downloading cupy-13.3.0.tar.gz (3.4 MB)\n",
      "\u001b[2K     \u001b[38;2;114;156;31m━━━━━━━━━━━━━━━━━━━━━━━━━━━━━━━━━━━━━━━━\u001b[0m \u001b[32m3.4/3.4 MB\u001b[0m \u001b[31m5.6 MB/s\u001b[0m eta \u001b[36m0:00:00\u001b[0mm eta \u001b[36m0:00:01\u001b[0m0:01\u001b[0m:01\u001b[0m\n",
      "\u001b[?25h  Preparing metadata (setup.py) ... \u001b[?25ldone\n",
      "\u001b[?25hCollecting fastrlock>=0.5\n",
      "  Using cached fastrlock-0.8.2-cp310-cp310-manylinux_2_5_x86_64.manylinux1_x86_64.manylinux_2_28_x86_64.whl (51 kB)\n",
      "Requirement already satisfied: numpy<2.3,>=1.22 in /home/raulm/.local/lib/python3.10/site-packages (from cupy) (1.26.4)\n",
      "Building wheels for collected packages: cupy\n",
      "  Building wheel for cupy (setup.py) ... \u001b[?25lerror\n",
      "  \u001b[1;31merror\u001b[0m: \u001b[1msubprocess-exited-with-error\u001b[0m\n",
      "  \n",
      "  \u001b[31m×\u001b[0m \u001b[32mpython setup.py bdist_wheel\u001b[0m did not run successfully.\n",
      "  \u001b[31m│\u001b[0m exit code: \u001b[1;36m1\u001b[0m\n",
      "  \u001b[31m╰─>\u001b[0m \u001b[31m[63 lines of output]\u001b[0m\n",
      "  \u001b[31m   \u001b[0m Generating cache key from header files...\n",
      "  \u001b[31m   \u001b[0m Cache key (1610 files matching /tmp/pip-install-xp38c7mi/cupy_fc5751da3c0e4acf9c4a6345379f5ece/cupy/_core/include/**): 94b82b4af4f366204d44f486688af23003e285c1\n",
      "  \u001b[31m   \u001b[0m Clearing directory: /tmp/pip-install-xp38c7mi/cupy_fc5751da3c0e4acf9c4a6345379f5ece/cupy/.data\n",
      "  \u001b[31m   \u001b[0m \n",
      "  \u001b[31m   \u001b[0m -------- Configuring Module: cuda --------\n",
      "  \u001b[31m   \u001b[0m /tmp/tmpl_vkv0tk/a.cpp:1:10: fatal error: cublas_v2.h: No such file or directory\n",
      "  \u001b[31m   \u001b[0m     1 | #include <cublas_v2.h>\n",
      "  \u001b[31m   \u001b[0m       |          ^~~~~~~~~~~~~\n",
      "  \u001b[31m   \u001b[0m compilation terminated.\n",
      "  \u001b[31m   \u001b[0m command '/usr/bin/x86_64-linux-gnu-gcc' failed with exit code 1\n",
      "  \u001b[31m   \u001b[0m /tmp/tmpab6b2y7r/a.cpp:2:18: fatal error: cuda_runtime_api.h: No such file or directory\n",
      "  \u001b[31m   \u001b[0m     2 |         #include <cuda_runtime_api.h>\n",
      "  \u001b[31m   \u001b[0m       |                  ^~~~~~~~~~~~~~~~~~~~\n",
      "  \u001b[31m   \u001b[0m compilation terminated.\n",
      "  \u001b[31m   \u001b[0m **************************************************\n",
      "  \u001b[31m   \u001b[0m *** WARNING: Cannot check compute capability\n",
      "  \u001b[31m   \u001b[0m command '/usr/bin/x86_64-linux-gnu-gcc' failed with exit code 1\n",
      "  \u001b[31m   \u001b[0m **************************************************\n",
      "  \u001b[31m   \u001b[0m \n",
      "  \u001b[31m   \u001b[0m ************************************************************\n",
      "  \u001b[31m   \u001b[0m * CuPy Configuration Summary                               *\n",
      "  \u001b[31m   \u001b[0m ************************************************************\n",
      "  \u001b[31m   \u001b[0m \n",
      "  \u001b[31m   \u001b[0m Build Environment:\n",
      "  \u001b[31m   \u001b[0m   Include directories: ['/tmp/pip-install-xp38c7mi/cupy_fc5751da3c0e4acf9c4a6345379f5ece/cupy/_core/include/cupy/_cccl/libcudacxx', '/tmp/pip-install-xp38c7mi/cupy_fc5751da3c0e4acf9c4a6345379f5ece/cupy/_core/include/cupy/_cccl/thrust', '/tmp/pip-install-xp38c7mi/cupy_fc5751da3c0e4acf9c4a6345379f5ece/cupy/_core/include/cupy/_cccl/cub', '/tmp/pip-install-xp38c7mi/cupy_fc5751da3c0e4acf9c4a6345379f5ece/cupy/_core/include']\n",
      "  \u001b[31m   \u001b[0m   Library directories: []\n",
      "  \u001b[31m   \u001b[0m   nvcc command       : (not found)\n",
      "  \u001b[31m   \u001b[0m   hipcc command      : (not found)\n",
      "  \u001b[31m   \u001b[0m \n",
      "  \u001b[31m   \u001b[0m Environment Variables:\n",
      "  \u001b[31m   \u001b[0m   CFLAGS          : (none)\n",
      "  \u001b[31m   \u001b[0m   LDFLAGS         : (none)\n",
      "  \u001b[31m   \u001b[0m   LIBRARY_PATH    : (none)\n",
      "  \u001b[31m   \u001b[0m   CUDA_PATH       : (none)\n",
      "  \u001b[31m   \u001b[0m   NVCC            : (none)\n",
      "  \u001b[31m   \u001b[0m   HIPCC           : (none)\n",
      "  \u001b[31m   \u001b[0m   ROCM_HOME       : (none)\n",
      "  \u001b[31m   \u001b[0m \n",
      "  \u001b[31m   \u001b[0m Modules:\n",
      "  \u001b[31m   \u001b[0m   cuda      : No\n",
      "  \u001b[31m   \u001b[0m     -> Include files not found: ['cublas_v2.h', 'cuda.h', 'cuda_profiler_api.h', 'cuda_runtime.h', 'cufft.h', 'curand.h', 'cusparse.h']\n",
      "  \u001b[31m   \u001b[0m     -> Check your CFLAGS environment variable.\n",
      "  \u001b[31m   \u001b[0m \n",
      "  \u001b[31m   \u001b[0m ERROR: CUDA could not be found on your system.\n",
      "  \u001b[31m   \u001b[0m \n",
      "  \u001b[31m   \u001b[0m HINT: You are trying to build CuPy from source, which is NOT recommended for general use.\n",
      "  \u001b[31m   \u001b[0m       Please consider using binary packages instead.\n",
      "  \u001b[31m   \u001b[0m \n",
      "  \u001b[31m   \u001b[0m Please refer to the Installation Guide for details:\n",
      "  \u001b[31m   \u001b[0m https://docs.cupy.dev/en/stable/install.html\n",
      "  \u001b[31m   \u001b[0m \n",
      "  \u001b[31m   \u001b[0m ************************************************************\n",
      "  \u001b[31m   \u001b[0m \n",
      "  \u001b[31m   \u001b[0m Traceback (most recent call last):\n",
      "  \u001b[31m   \u001b[0m   File \"<string>\", line 2, in <module>\n",
      "  \u001b[31m   \u001b[0m   File \"<pip-setuptools-caller>\", line 34, in <module>\n",
      "  \u001b[31m   \u001b[0m   File \"/tmp/pip-install-xp38c7mi/cupy_fc5751da3c0e4acf9c4a6345379f5ece/setup.py\", line 95, in <module>\n",
      "  \u001b[31m   \u001b[0m     ext_modules = cupy_setup_build.get_ext_modules(True, ctx)\n",
      "  \u001b[31m   \u001b[0m   File \"/tmp/pip-install-xp38c7mi/cupy_fc5751da3c0e4acf9c4a6345379f5ece/install/cupy_builder/cupy_setup_build.py\", line 514, in get_ext_modules\n",
      "  \u001b[31m   \u001b[0m     extensions = make_extensions(ctx, compiler, use_cython)\n",
      "  \u001b[31m   \u001b[0m   File \"/tmp/pip-install-xp38c7mi/cupy_fc5751da3c0e4acf9c4a6345379f5ece/install/cupy_builder/cupy_setup_build.py\", line 363, in make_extensions\n",
      "  \u001b[31m   \u001b[0m     raise Exception('Your CUDA environment is invalid. '\n",
      "  \u001b[31m   \u001b[0m Exception: Your CUDA environment is invalid. Please check above error log.\n",
      "  \u001b[31m   \u001b[0m \u001b[31m[end of output]\u001b[0m\n",
      "  \n",
      "  \u001b[1;35mnote\u001b[0m: This error originates from a subprocess, and is likely not a problem with pip.\n",
      "\u001b[31m  ERROR: Failed building wheel for cupy\u001b[0m\u001b[31m\n",
      "\u001b[0m\u001b[?25h  Running setup.py clean for cupy\n",
      "  \u001b[1;31merror\u001b[0m: \u001b[1msubprocess-exited-with-error\u001b[0m\n",
      "  \n",
      "  \u001b[31m×\u001b[0m \u001b[32mpython setup.py clean\u001b[0m did not run successfully.\n",
      "  \u001b[31m│\u001b[0m exit code: \u001b[1;36m1\u001b[0m\n",
      "  \u001b[31m╰─>\u001b[0m \u001b[31m[63 lines of output]\u001b[0m\n",
      "  \u001b[31m   \u001b[0m Generating cache key from header files...\n",
      "  \u001b[31m   \u001b[0m Cache key (1610 files matching /tmp/pip-install-xp38c7mi/cupy_fc5751da3c0e4acf9c4a6345379f5ece/cupy/_core/include/**): 94b82b4af4f366204d44f486688af23003e285c1\n",
      "  \u001b[31m   \u001b[0m Clearing directory: /tmp/pip-install-xp38c7mi/cupy_fc5751da3c0e4acf9c4a6345379f5ece/cupy/.data\n",
      "  \u001b[31m   \u001b[0m \n",
      "  \u001b[31m   \u001b[0m -------- Configuring Module: cuda --------\n",
      "  \u001b[31m   \u001b[0m /tmp/tmpnw8baqfl/a.cpp:1:10: fatal error: cublas_v2.h: No such file or directory\n",
      "  \u001b[31m   \u001b[0m     1 | #include <cublas_v2.h>\n",
      "  \u001b[31m   \u001b[0m       |          ^~~~~~~~~~~~~\n",
      "  \u001b[31m   \u001b[0m compilation terminated.\n",
      "  \u001b[31m   \u001b[0m command '/usr/bin/x86_64-linux-gnu-gcc' failed with exit code 1\n",
      "  \u001b[31m   \u001b[0m /tmp/tmpn8ii_zwk/a.cpp:2:18: fatal error: cuda_runtime_api.h: No such file or directory\n",
      "  \u001b[31m   \u001b[0m     2 |         #include <cuda_runtime_api.h>\n",
      "  \u001b[31m   \u001b[0m       |                  ^~~~~~~~~~~~~~~~~~~~\n",
      "  \u001b[31m   \u001b[0m compilation terminated.\n",
      "  \u001b[31m   \u001b[0m **************************************************\n",
      "  \u001b[31m   \u001b[0m *** WARNING: Cannot check compute capability\n",
      "  \u001b[31m   \u001b[0m command '/usr/bin/x86_64-linux-gnu-gcc' failed with exit code 1\n",
      "  \u001b[31m   \u001b[0m **************************************************\n",
      "  \u001b[31m   \u001b[0m \n",
      "  \u001b[31m   \u001b[0m ************************************************************\n",
      "  \u001b[31m   \u001b[0m * CuPy Configuration Summary                               *\n",
      "  \u001b[31m   \u001b[0m ************************************************************\n",
      "  \u001b[31m   \u001b[0m \n",
      "  \u001b[31m   \u001b[0m Build Environment:\n",
      "  \u001b[31m   \u001b[0m   Include directories: ['/tmp/pip-install-xp38c7mi/cupy_fc5751da3c0e4acf9c4a6345379f5ece/cupy/_core/include/cupy/_cccl/libcudacxx', '/tmp/pip-install-xp38c7mi/cupy_fc5751da3c0e4acf9c4a6345379f5ece/cupy/_core/include/cupy/_cccl/thrust', '/tmp/pip-install-xp38c7mi/cupy_fc5751da3c0e4acf9c4a6345379f5ece/cupy/_core/include/cupy/_cccl/cub', '/tmp/pip-install-xp38c7mi/cupy_fc5751da3c0e4acf9c4a6345379f5ece/cupy/_core/include']\n",
      "  \u001b[31m   \u001b[0m   Library directories: []\n",
      "  \u001b[31m   \u001b[0m   nvcc command       : (not found)\n",
      "  \u001b[31m   \u001b[0m   hipcc command      : (not found)\n",
      "  \u001b[31m   \u001b[0m \n",
      "  \u001b[31m   \u001b[0m Environment Variables:\n",
      "  \u001b[31m   \u001b[0m   CFLAGS          : (none)\n",
      "  \u001b[31m   \u001b[0m   LDFLAGS         : (none)\n",
      "  \u001b[31m   \u001b[0m   LIBRARY_PATH    : (none)\n",
      "  \u001b[31m   \u001b[0m   CUDA_PATH       : (none)\n",
      "  \u001b[31m   \u001b[0m   NVCC            : (none)\n",
      "  \u001b[31m   \u001b[0m   HIPCC           : (none)\n",
      "  \u001b[31m   \u001b[0m   ROCM_HOME       : (none)\n",
      "  \u001b[31m   \u001b[0m \n",
      "  \u001b[31m   \u001b[0m Modules:\n",
      "  \u001b[31m   \u001b[0m   cuda      : No\n",
      "  \u001b[31m   \u001b[0m     -> Include files not found: ['cublas_v2.h', 'cuda.h', 'cuda_profiler_api.h', 'cuda_runtime.h', 'cufft.h', 'curand.h', 'cusparse.h']\n",
      "  \u001b[31m   \u001b[0m     -> Check your CFLAGS environment variable.\n",
      "  \u001b[31m   \u001b[0m \n",
      "  \u001b[31m   \u001b[0m ERROR: CUDA could not be found on your system.\n",
      "  \u001b[31m   \u001b[0m \n",
      "  \u001b[31m   \u001b[0m HINT: You are trying to build CuPy from source, which is NOT recommended for general use.\n",
      "  \u001b[31m   \u001b[0m       Please consider using binary packages instead.\n",
      "  \u001b[31m   \u001b[0m \n",
      "  \u001b[31m   \u001b[0m Please refer to the Installation Guide for details:\n",
      "  \u001b[31m   \u001b[0m https://docs.cupy.dev/en/stable/install.html\n",
      "  \u001b[31m   \u001b[0m \n",
      "  \u001b[31m   \u001b[0m ************************************************************\n",
      "  \u001b[31m   \u001b[0m \n",
      "  \u001b[31m   \u001b[0m Traceback (most recent call last):\n",
      "  \u001b[31m   \u001b[0m   File \"<string>\", line 2, in <module>\n",
      "  \u001b[31m   \u001b[0m   File \"<pip-setuptools-caller>\", line 34, in <module>\n",
      "  \u001b[31m   \u001b[0m   File \"/tmp/pip-install-xp38c7mi/cupy_fc5751da3c0e4acf9c4a6345379f5ece/setup.py\", line 95, in <module>\n",
      "  \u001b[31m   \u001b[0m     ext_modules = cupy_setup_build.get_ext_modules(True, ctx)\n",
      "  \u001b[31m   \u001b[0m   File \"/tmp/pip-install-xp38c7mi/cupy_fc5751da3c0e4acf9c4a6345379f5ece/install/cupy_builder/cupy_setup_build.py\", line 514, in get_ext_modules\n",
      "  \u001b[31m   \u001b[0m     extensions = make_extensions(ctx, compiler, use_cython)\n",
      "  \u001b[31m   \u001b[0m   File \"/tmp/pip-install-xp38c7mi/cupy_fc5751da3c0e4acf9c4a6345379f5ece/install/cupy_builder/cupy_setup_build.py\", line 363, in make_extensions\n",
      "  \u001b[31m   \u001b[0m     raise Exception('Your CUDA environment is invalid. '\n",
      "  \u001b[31m   \u001b[0m Exception: Your CUDA environment is invalid. Please check above error log.\n",
      "  \u001b[31m   \u001b[0m \u001b[31m[end of output]\u001b[0m\n",
      "  \n",
      "  \u001b[1;35mnote\u001b[0m: This error originates from a subprocess, and is likely not a problem with pip.\n",
      "\u001b[31m  ERROR: Failed cleaning build dir for cupy\u001b[0m\u001b[31m\n",
      "\u001b[0mFailed to build cupy\n",
      "Installing collected packages: fastrlock, cupy\n",
      "  Running setup.py install for cupy ... \u001b[?25lerror\n",
      "  \u001b[1;31merror\u001b[0m: \u001b[1msubprocess-exited-with-error\u001b[0m\n",
      "  \n",
      "  \u001b[31m×\u001b[0m \u001b[32mRunning setup.py install for cupy\u001b[0m did not run successfully.\n",
      "  \u001b[31m│\u001b[0m exit code: \u001b[1;36m1\u001b[0m\n",
      "  \u001b[31m╰─>\u001b[0m \u001b[31m[63 lines of output]\u001b[0m\n",
      "  \u001b[31m   \u001b[0m Generating cache key from header files...\n",
      "  \u001b[31m   \u001b[0m Cache key (1610 files matching /tmp/pip-install-xp38c7mi/cupy_fc5751da3c0e4acf9c4a6345379f5ece/cupy/_core/include/**): 94b82b4af4f366204d44f486688af23003e285c1\n",
      "  \u001b[31m   \u001b[0m Clearing directory: /tmp/pip-install-xp38c7mi/cupy_fc5751da3c0e4acf9c4a6345379f5ece/cupy/.data\n",
      "  \u001b[31m   \u001b[0m \n",
      "  \u001b[31m   \u001b[0m -------- Configuring Module: cuda --------\n",
      "  \u001b[31m   \u001b[0m /tmp/tmpt1g6ww1d/a.cpp:1:10: fatal error: cublas_v2.h: No such file or directory\n",
      "  \u001b[31m   \u001b[0m     1 | #include <cublas_v2.h>\n",
      "  \u001b[31m   \u001b[0m       |          ^~~~~~~~~~~~~\n",
      "  \u001b[31m   \u001b[0m compilation terminated.\n",
      "  \u001b[31m   \u001b[0m command '/usr/bin/x86_64-linux-gnu-gcc' failed with exit code 1\n",
      "  \u001b[31m   \u001b[0m /tmp/tmpu7op9q61/a.cpp:2:18: fatal error: cuda_runtime_api.h: No such file or directory\n",
      "  \u001b[31m   \u001b[0m     2 |         #include <cuda_runtime_api.h>\n",
      "  \u001b[31m   \u001b[0m       |                  ^~~~~~~~~~~~~~~~~~~~\n",
      "  \u001b[31m   \u001b[0m compilation terminated.\n",
      "  \u001b[31m   \u001b[0m **************************************************\n",
      "  \u001b[31m   \u001b[0m *** WARNING: Cannot check compute capability\n",
      "  \u001b[31m   \u001b[0m command '/usr/bin/x86_64-linux-gnu-gcc' failed with exit code 1\n",
      "  \u001b[31m   \u001b[0m **************************************************\n",
      "  \u001b[31m   \u001b[0m \n",
      "  \u001b[31m   \u001b[0m ************************************************************\n",
      "  \u001b[31m   \u001b[0m * CuPy Configuration Summary                               *\n",
      "  \u001b[31m   \u001b[0m ************************************************************\n",
      "  \u001b[31m   \u001b[0m \n",
      "  \u001b[31m   \u001b[0m Build Environment:\n",
      "  \u001b[31m   \u001b[0m   Include directories: ['/tmp/pip-install-xp38c7mi/cupy_fc5751da3c0e4acf9c4a6345379f5ece/cupy/_core/include/cupy/_cccl/libcudacxx', '/tmp/pip-install-xp38c7mi/cupy_fc5751da3c0e4acf9c4a6345379f5ece/cupy/_core/include/cupy/_cccl/thrust', '/tmp/pip-install-xp38c7mi/cupy_fc5751da3c0e4acf9c4a6345379f5ece/cupy/_core/include/cupy/_cccl/cub', '/tmp/pip-install-xp38c7mi/cupy_fc5751da3c0e4acf9c4a6345379f5ece/cupy/_core/include']\n",
      "  \u001b[31m   \u001b[0m   Library directories: []\n",
      "  \u001b[31m   \u001b[0m   nvcc command       : (not found)\n",
      "  \u001b[31m   \u001b[0m   hipcc command      : (not found)\n",
      "  \u001b[31m   \u001b[0m \n",
      "  \u001b[31m   \u001b[0m Environment Variables:\n",
      "  \u001b[31m   \u001b[0m   CFLAGS          : (none)\n",
      "  \u001b[31m   \u001b[0m   LDFLAGS         : (none)\n",
      "  \u001b[31m   \u001b[0m   LIBRARY_PATH    : (none)\n",
      "  \u001b[31m   \u001b[0m   CUDA_PATH       : (none)\n",
      "  \u001b[31m   \u001b[0m   NVCC            : (none)\n",
      "  \u001b[31m   \u001b[0m   HIPCC           : (none)\n",
      "  \u001b[31m   \u001b[0m   ROCM_HOME       : (none)\n",
      "  \u001b[31m   \u001b[0m \n",
      "  \u001b[31m   \u001b[0m Modules:\n",
      "  \u001b[31m   \u001b[0m   cuda      : No\n",
      "  \u001b[31m   \u001b[0m     -> Include files not found: ['cublas_v2.h', 'cuda.h', 'cuda_profiler_api.h', 'cuda_runtime.h', 'cufft.h', 'curand.h', 'cusparse.h']\n",
      "  \u001b[31m   \u001b[0m     -> Check your CFLAGS environment variable.\n",
      "  \u001b[31m   \u001b[0m \n",
      "  \u001b[31m   \u001b[0m ERROR: CUDA could not be found on your system.\n",
      "  \u001b[31m   \u001b[0m \n",
      "  \u001b[31m   \u001b[0m HINT: You are trying to build CuPy from source, which is NOT recommended for general use.\n",
      "  \u001b[31m   \u001b[0m       Please consider using binary packages instead.\n",
      "  \u001b[31m   \u001b[0m \n",
      "  \u001b[31m   \u001b[0m Please refer to the Installation Guide for details:\n",
      "  \u001b[31m   \u001b[0m https://docs.cupy.dev/en/stable/install.html\n",
      "  \u001b[31m   \u001b[0m \n",
      "  \u001b[31m   \u001b[0m ************************************************************\n",
      "  \u001b[31m   \u001b[0m \n",
      "  \u001b[31m   \u001b[0m Traceback (most recent call last):\n",
      "  \u001b[31m   \u001b[0m   File \"<string>\", line 2, in <module>\n",
      "  \u001b[31m   \u001b[0m   File \"<pip-setuptools-caller>\", line 34, in <module>\n",
      "  \u001b[31m   \u001b[0m   File \"/tmp/pip-install-xp38c7mi/cupy_fc5751da3c0e4acf9c4a6345379f5ece/setup.py\", line 95, in <module>\n",
      "  \u001b[31m   \u001b[0m     ext_modules = cupy_setup_build.get_ext_modules(True, ctx)\n",
      "  \u001b[31m   \u001b[0m   File \"/tmp/pip-install-xp38c7mi/cupy_fc5751da3c0e4acf9c4a6345379f5ece/install/cupy_builder/cupy_setup_build.py\", line 514, in get_ext_modules\n",
      "  \u001b[31m   \u001b[0m     extensions = make_extensions(ctx, compiler, use_cython)\n",
      "  \u001b[31m   \u001b[0m   File \"/tmp/pip-install-xp38c7mi/cupy_fc5751da3c0e4acf9c4a6345379f5ece/install/cupy_builder/cupy_setup_build.py\", line 363, in make_extensions\n",
      "  \u001b[31m   \u001b[0m     raise Exception('Your CUDA environment is invalid. '\n",
      "  \u001b[31m   \u001b[0m Exception: Your CUDA environment is invalid. Please check above error log.\n",
      "  \u001b[31m   \u001b[0m \u001b[31m[end of output]\u001b[0m\n",
      "  \n",
      "  \u001b[1;35mnote\u001b[0m: This error originates from a subprocess, and is likely not a problem with pip.\n",
      "\u001b[1;31merror\u001b[0m: \u001b[1mlegacy-install-failure\u001b[0m\n",
      "\n",
      "\u001b[31m×\u001b[0m Encountered error while trying to install package.\n",
      "\u001b[31m╰─>\u001b[0m cupy\n",
      "\n",
      "\u001b[1;35mnote\u001b[0m: This is an issue with the package mentioned above, not pip.\n",
      "\u001b[1;36mhint\u001b[0m: See above for output from the failure.\n",
      "\u001b[?25hNote: you may need to restart the kernel to use updated packages.\n"
     ]
    }
   ],
   "source": [
    "pip install cupy"
   ]
  },
  {
   "cell_type": "code",
   "execution_count": 3,
   "id": "951461fe-e153-4bc9-bd3f-f4271c716291",
   "metadata": {},
   "outputs": [
    {
     "name": "stdout",
     "output_type": "stream",
     "text": [
      "Arquivos CSV separados foram criados com sucesso!\n"
     ]
    }
   ],
   "source": [
    "import pandas as pd\n",
    "\n",
    "# Carregar o CSV original\n",
    "#df = pd.read_csv('')\n",
    "\n",
    "# Agrupar pelos valores únicos de 'f__mhz' e 'T_pol'\n",
    "grupos = df.groupby(['f__mhz', 'p'])\n",
    "\n",
    "# Criar arquivos CSV separados para cada combinação de 'f__mhz' e 'T_pol'\n",
    "for (f_mhz, t_pol), group in grupos:\n",
    "    nome_arquivo = f'{f_mhz} MHz - Lb({t_pol/100})_P528.csv'\n",
    "   # 1,200 MHz - Lb(0.95)_P528.csv\n",
    "    group.to_csv(nome_arquivo, index=False)\n",
    "\n",
    "print(\"Arquivos CSV separados foram criados com sucesso!\")\n"
   ]
  },
  {
   "cell_type": "code",
   "execution_count": 6,
   "id": "8effe421-e1e6-4069-9936-d9a016b46caa",
   "metadata": {},
   "outputs": [
    {
     "name": "stdout",
     "output_type": "stream",
     "text": [
      "Renomeado: \"9400 MHz - Lb(0.05)_P528.csv\" para \"9.400 MHz - Lb(0.05)_P528.csv\"\n",
      "Renomeado: \"1200 MHz - Lb(0.01)_P528.csv\" para \"1.200 MHz - Lb(0.01)_P528.csv\"\n",
      "Renomeado: \"9400 MHz - Lb(0.5)_P528.csv\" para \"9.400 MHz - Lb(0.5)_P528.csv\"\n",
      "Renomeado: \"30000 MHz - Lb(0.05)_P528.csv\" para \"30.000 MHz - Lb(0.05)_P528.csv\"\n",
      "Renomeado: \"15500 MHz - Lb(0.95)_P528.csv\" para \"15.500 MHz - Lb(0.95)_P528.csv\"\n",
      "Renomeado: \"2400 MHz - Lb(0.5)_P528.csv\" para \"2.400 MHz - Lb(0.5)_P528.csv\"\n",
      "Renomeado: \"9400 MHz - Lb(0.95)_P528.csv\" para \"9.400 MHz - Lb(0.95)_P528.csv\"\n",
      "Renomeado: \"2400 MHz - Lb(0.05)_P528.csv\" para \"2.400 MHz - Lb(0.05)_P528.csv\"\n",
      "Renomeado: \"2400 MHz - Lb(0.01)_P528.csv\" para \"2.400 MHz - Lb(0.01)_P528.csv\"\n",
      "Renomeado: \"1200 MHz - Lb(0.05)_P528.csv\" para \"1.200 MHz - Lb(0.05)_P528.csv\"\n",
      "Renomeado: \"30000 MHz - Lb(0.5)_P528.csv\" para \"30.000 MHz - Lb(0.5)_P528.csv\"\n",
      "Renomeado: \"2400 MHz - Lb(0.1)_P528.csv\" para \"2.400 MHz - Lb(0.1)_P528.csv\"\n",
      "Renomeado: \"15500 MHz - Lb(0.05)_P528.csv\" para \"15.500 MHz - Lb(0.05)_P528.csv\"\n",
      "Renomeado: \"5100 MHz - Lb(0.05)_P528.csv\" para \"5.100 MHz - Lb(0.05)_P528.csv\"\n",
      "Renomeado: \"30000 MHz - Lb(0.01)_P528.csv\" para \"30.000 MHz - Lb(0.01)_P528.csv\"\n",
      "Renomeado: \"15500 MHz - Lb(0.01)_P528.csv\" para \"15.500 MHz - Lb(0.01)_P528.csv\"\n",
      "Renomeado: \"5100 MHz - Lb(0.95)_P528.csv\" para \"5.100 MHz - Lb(0.95)_P528.csv\"\n",
      "Renomeado: \"2400 MHz - Lb(0.95)_P528.csv\" para \"2.400 MHz - Lb(0.95)_P528.csv\"\n",
      "Renomeado: \"1200 MHz - Lb(0.5)_P528.csv\" para \"1.200 MHz - Lb(0.5)_P528.csv\"\n",
      "Renomeado: \"15500 MHz - Lb(0.1)_P528.csv\" para \"15.500 MHz - Lb(0.1)_P528.csv\"\n",
      "Renomeado: \"5100 MHz - Lb(0.5)_P528.csv\" para \"5.100 MHz - Lb(0.5)_P528.csv\"\n",
      "Renomeado: \"5100 MHz - Lb(0.01)_P528.csv\" para \"5.100 MHz - Lb(0.01)_P528.csv\"\n",
      "Renomeado: \"1200 MHz - Lb(0.95)_P528.csv\" para \"1.200 MHz - Lb(0.95)_P528.csv\"\n",
      "Renomeado: \"5100 MHz - Lb(0.1)_P528.csv\" para \"5.100 MHz - Lb(0.1)_P528.csv\"\n",
      "Renomeado: \"1200 MHz - Lb(0.1)_P528.csv\" para \"1.200 MHz - Lb(0.1)_P528.csv\"\n",
      "Renomeado: \"9400 MHz - Lb(0.1)_P528.csv\" para \"9.400 MHz - Lb(0.1)_P528.csv\"\n",
      "Renomeado: \"30000 MHz - Lb(0.95)_P528.csv\" para \"30.000 MHz - Lb(0.95)_P528.csv\"\n",
      "Renomeado: \"15500 MHz - Lb(0.5)_P528.csv\" para \"15.500 MHz - Lb(0.5)_P528.csv\"\n",
      "Renomeado: \"30000 MHz - Lb(0.1)_P528.csv\" para \"30.000 MHz - Lb(0.1)_P528.csv\"\n",
      "Renomeado: \"9400 MHz - Lb(0.01)_P528.csv\" para \"9.400 MHz - Lb(0.01)_P528.csv\"\n"
     ]
    }
   ],
   "source": [
    "import os\n",
    "import re\n",
    "\n",
    "# Defina o caminho para o diretório onde os arquivos estão localizados\n",
    "directory = r\"/home/raulm/anatel/P528py/scalar/Data Table Gen\"\n",
    "\n",
    "# Percorra os arquivos no diretório\n",
    "for filename in os.listdir(directory):\n",
    "    # Use uma expressão regular para encontrar a parte da frequência\n",
    "    match = re.search(r'(\\d+)\\s*MHz', filename)\n",
    "    \n",
    "    if match:\n",
    "        frequency = match.group(1)\n",
    "        \n",
    "        # Se a frequência tiver 4 dígitos ou mais, formate com vírgulas\n",
    "        if len(frequency) >= 4:\n",
    "            formatted_frequency = '{:,}'.format(int(frequency)).replace(',', '.')\n",
    "            new_filename = filename.replace(frequency, formatted_frequency)\n",
    "            \n",
    "            # Crie os caminhos completos para os arquivos antigo e novo\n",
    "            old_file = os.path.join(directory, filename)\n",
    "            new_file = os.path.join(directory, new_filename)\n",
    "            \n",
    "            # Renomeie o arquivo\n",
    "            os.rename(old_file, new_file)\n",
    "            print(f'Renomeado: \"{filename}\" para \"{new_filename}\"')\n"
   ]
  },
  {
   "cell_type": "code",
   "execution_count": 9,
   "id": "c91fb82b-71e7-4817-a44b-583e93d1d7e6",
   "metadata": {},
   "outputs": [],
   "source": [
    "a=\"/home/raulm/anatel/P528py/scalar/Data Table Gen/600 MHz - Lb(0.05)_P528.csv\"\n",
    "df= pd.read_csv(a)"
   ]
  },
  {
   "cell_type": "code",
   "execution_count": 10,
   "id": "e7f1cc2e-d513-422e-affa-4b5410249c0f",
   "metadata": {},
   "outputs": [
    {
     "name": "stderr",
     "output_type": "stream",
     "text": [
      "/tmp/ipykernel_1035996/1508691704.py:34: FutureWarning: The behavior of DataFrame concatenation with empty or all-NA entries is deprecated. In a future version, this will no longer exclude empty or all-NA columns when determining the result dtypes. To retain the old behavior, exclude the relevant entries before the concat operation.\n",
      "  result = pd.concat([result, pd.DataFrame([row])], ignore_index=True)\n"
     ]
    },
    {
     "name": "stdout",
     "output_type": "stream",
     "text": [
      "     D (km)  h1=1.5_h2=1000  h1=1.5_h2=10000  h1=1.5_h2=20000  h1=15_h2=1000  \\\n",
      "0         0       83.848061       103.878351       109.902743      83.729774   \n",
      "1         1       86.408673       103.855274       109.871196      86.390629   \n",
      "2         2       90.067588       103.902424       109.856463      90.063910   \n",
      "3         3       92.939279       104.019834       109.859368      92.936604   \n",
      "4         4       95.163330       104.202948       109.880115      95.164626   \n",
      "...     ...             ...              ...              ...            ...   \n",
      "996     996      243.724978       222.538817       209.956043     236.775936   \n",
      "997     997      243.807333       222.625297       210.048721     236.851173   \n",
      "998     998      243.889682       222.711806       210.141334     236.926404   \n",
      "999     999      243.972068       222.798389       210.233791     237.001675   \n",
      "1000   1000      244.054402       222.884951       210.326182     237.076896   \n",
      "\n",
      "      h1=15_h2=10000  h1=15_h2=20000  h1=30_h2=1000  h1=30_h2=10000  \\\n",
      "0         103.866565      109.896828      83.596429      103.853451   \n",
      "1         103.850645      109.868810      86.369982      103.845503   \n",
      "2         103.898127      109.854142      90.057967      103.893180   \n",
      "3         104.015848      109.857110      92.936679      104.011457   \n",
      "4         104.199192      109.877959      95.166262      104.195141   \n",
      "...              ...             ...            ...             ...   \n",
      "996       218.600741      206.438089     236.222110      218.065071   \n",
      "997       218.681007      206.537477     236.297152      218.145065   \n",
      "998       218.761282      206.636644     236.372233      218.225155   \n",
      "999       218.841654      206.735680     236.447261      218.305252   \n",
      "1000      218.922033      206.834493     236.522282      218.385402   \n",
      "\n",
      "      h1=30_h2=20000  ...  h1=60_h2=20000  h1=1000_h2=1000  h1=1000_h2=10000  \\\n",
      "0         109.890251  ...      109.877082         0.000000        102.960953   \n",
      "1         109.866198  ...      109.860869        85.633757        103.465058   \n",
      "2         109.851556  ...      109.846355        90.383596        103.535127   \n",
      "3         109.854595  ...      109.849550        93.274827        103.685743   \n",
      "4         109.875504  ...      109.870634        95.443679        103.906093   \n",
      "...              ...  ...             ...              ...               ...   \n",
      "996       205.713035  ...      204.768839       229.301358        210.029836   \n",
      "997       205.814144  ...      204.871934       229.378016        210.123874   \n",
      "998       205.915126  ...      204.974911       229.454686        210.217744   \n",
      "999       206.015891  ...      205.077678       229.531278        210.311356   \n",
      "1000      206.116527  ...      205.180326       229.607837        210.404753   \n",
      "\n",
      "      h1=1000_h2=20000  h1=10000_h2=1000  h1=10000_h2=10000  \\\n",
      "0           109.454316               0.0           0.000000   \n",
      "1           109.685041               0.0          87.626959   \n",
      "2           109.673755               0.0          93.442023   \n",
      "3           109.681502               0.0          96.696896   \n",
      "4           109.708381               0.0          98.944878   \n",
      "...                ...               ...                ...   \n",
      "996         194.545145               0.0         180.707835   \n",
      "997         194.662143               0.0         180.856035   \n",
      "998         194.779020               0.0         181.003749   \n",
      "999         194.895733               0.0         181.150980   \n",
      "1000        195.012372               0.0         181.297736   \n",
      "\n",
      "      h1=10000_h2=20000  h1=20000_h2=1000  h1=20000_h2=10000  \\\n",
      "0            103.860690               0.0                0.0   \n",
      "1            106.248573               0.0                0.0   \n",
      "2            106.323294               0.0                0.0   \n",
      "3            106.460781               0.0                0.0   \n",
      "4            106.656180               0.0                0.0   \n",
      "...                 ...               ...                ...   \n",
      "996          151.560982               0.0                0.0   \n",
      "997          151.769610               0.0                0.0   \n",
      "998          151.978362               0.0                0.0   \n",
      "999          152.187137               0.0                0.0   \n",
      "1000         153.024940               0.0                0.0   \n",
      "\n",
      "      h1=20000_h2=20000  \n",
      "0              0.000000  \n",
      "1             87.749048  \n",
      "2             93.647663  \n",
      "3             97.082041  \n",
      "4             99.473172  \n",
      "...                 ...  \n",
      "996          142.842512  \n",
      "997          142.855015  \n",
      "998          142.867521  \n",
      "999          142.880257  \n",
      "1000         142.892738  \n",
      "\n",
      "[1001 rows x 22 columns]\n"
     ]
    }
   ],
   "source": [
    "import pandas as pd\n",
    "\n",
    "# Lista das combinações desejadas de h1 e h2\n",
    "h1_values = [1.5, 15, 30, 60, 1000, 10000, 20000]\n",
    "h2_values = [1000, 10000, 20000]\n",
    "\n",
    "# Criação das colunas dinamicamente\n",
    "columns = [\"D (km)\"] + [f\"h1={h1}_h2={h2}\" for h1 in h1_values for h2 in h2_values]\n",
    "\n",
    "# Criação do DataFrame vazio com as colunas definidas\n",
    "result = pd.DataFrame(columns=columns)\n",
    "\n",
    "\n",
    "\n",
    "# Agrupar e preencher o DataFrame resultante\n",
    "for d in df['d__km'].unique():\n",
    "    # Criação de um dicionário para cada linha\n",
    "    row = {'D (km)': d}\n",
    "\n",
    "    for h1 in h1_values:\n",
    "        for h2 in h2_values:\n",
    "            col_name = f\"h1={h1}_h2={h2}\"\n",
    "            # Filtrar para encontrar a combinação de d, h1 e h2\n",
    "            match = df[(df['d__km'] == d) & (df['h_1__meter'] == h1) & (df['h_2__meter'] == h2)]\n",
    "\n",
    "            if not match.empty:\n",
    "                # Se houver correspondência, adicionar a Perda_total_dB\n",
    "                row[col_name] = match['Perda_total_dB'].values[0]\n",
    "            else:\n",
    "                # Se não houver correspondência, preencher com 0.0\n",
    "                row[col_name] = 0.0\n",
    "\n",
    "    # Adicionar a linha ao DataFrame de resultados usando pd.concat()\n",
    "    result = pd.concat([result, pd.DataFrame([row])], ignore_index=True)\n",
    "\n",
    "# Mostrar o DataFrame final\n",
    "print(result)\n"
   ]
  },
  {
   "cell_type": "code",
   "execution_count": 16,
   "id": "342aa2e6-1817-4ce5-bec1-d55cead59b42",
   "metadata": {},
   "outputs": [
    {
     "name": "stderr",
     "output_type": "stream",
     "text": [
      "/tmp/ipykernel_1035996/4265846188.py:45: FutureWarning: The behavior of DataFrame concatenation with empty or all-NA entries is deprecated. In a future version, this will no longer exclude empty or all-NA columns when determining the result dtypes. To retain the old behavior, exclude the relevant entries before the concat operation.\n",
      "  result = pd.concat([result, pd.DataFrame([row])], ignore_index=True)\n"
     ]
    },
    {
     "name": "stdout",
     "output_type": "stream",
     "text": [
      "Arquivo processado e salvo: 5.100 MHz - Lb(0.05)_P528.csv\n"
     ]
    },
    {
     "name": "stderr",
     "output_type": "stream",
     "text": [
      "/tmp/ipykernel_1035996/4265846188.py:45: FutureWarning: The behavior of DataFrame concatenation with empty or all-NA entries is deprecated. In a future version, this will no longer exclude empty or all-NA columns when determining the result dtypes. To retain the old behavior, exclude the relevant entries before the concat operation.\n",
      "  result = pd.concat([result, pd.DataFrame([row])], ignore_index=True)\n"
     ]
    },
    {
     "name": "stdout",
     "output_type": "stream",
     "text": [
      "Arquivo processado e salvo: 600 MHz - Lb(0.5)_P528.csv\n"
     ]
    },
    {
     "name": "stderr",
     "output_type": "stream",
     "text": [
      "/tmp/ipykernel_1035996/4265846188.py:45: FutureWarning: The behavior of DataFrame concatenation with empty or all-NA entries is deprecated. In a future version, this will no longer exclude empty or all-NA columns when determining the result dtypes. To retain the old behavior, exclude the relevant entries before the concat operation.\n",
      "  result = pd.concat([result, pd.DataFrame([row])], ignore_index=True)\n"
     ]
    },
    {
     "name": "stdout",
     "output_type": "stream",
     "text": [
      "Arquivo processado e salvo: 2.400 MHz - Lb(0.05)_P528.csv\n"
     ]
    },
    {
     "name": "stderr",
     "output_type": "stream",
     "text": [
      "/tmp/ipykernel_1035996/4265846188.py:45: FutureWarning: The behavior of DataFrame concatenation with empty or all-NA entries is deprecated. In a future version, this will no longer exclude empty or all-NA columns when determining the result dtypes. To retain the old behavior, exclude the relevant entries before the concat operation.\n",
      "  result = pd.concat([result, pd.DataFrame([row])], ignore_index=True)\n"
     ]
    },
    {
     "name": "stdout",
     "output_type": "stream",
     "text": [
      "Arquivo processado e salvo: 100 MHz - Lb(0.05)_P528.csv\n"
     ]
    },
    {
     "name": "stderr",
     "output_type": "stream",
     "text": [
      "/tmp/ipykernel_1035996/4265846188.py:45: FutureWarning: The behavior of DataFrame concatenation with empty or all-NA entries is deprecated. In a future version, this will no longer exclude empty or all-NA columns when determining the result dtypes. To retain the old behavior, exclude the relevant entries before the concat operation.\n",
      "  result = pd.concat([result, pd.DataFrame([row])], ignore_index=True)\n"
     ]
    },
    {
     "name": "stdout",
     "output_type": "stream",
     "text": [
      "Arquivo processado e salvo: 30.000 MHz - Lb(0.5)_P528.csv\n"
     ]
    },
    {
     "name": "stderr",
     "output_type": "stream",
     "text": [
      "/tmp/ipykernel_1035996/4265846188.py:45: FutureWarning: The behavior of DataFrame concatenation with empty or all-NA entries is deprecated. In a future version, this will no longer exclude empty or all-NA columns when determining the result dtypes. To retain the old behavior, exclude the relevant entries before the concat operation.\n",
      "  result = pd.concat([result, pd.DataFrame([row])], ignore_index=True)\n"
     ]
    },
    {
     "name": "stdout",
     "output_type": "stream",
     "text": [
      "Arquivo processado e salvo: 125 MHz - Lb(0.1)_P528.csv\n"
     ]
    },
    {
     "name": "stderr",
     "output_type": "stream",
     "text": [
      "/tmp/ipykernel_1035996/4265846188.py:45: FutureWarning: The behavior of DataFrame concatenation with empty or all-NA entries is deprecated. In a future version, this will no longer exclude empty or all-NA columns when determining the result dtypes. To retain the old behavior, exclude the relevant entries before the concat operation.\n",
      "  result = pd.concat([result, pd.DataFrame([row])], ignore_index=True)\n"
     ]
    },
    {
     "name": "stdout",
     "output_type": "stream",
     "text": [
      "Arquivo processado e salvo: 100 MHz - Lb(0.1)_P528.csv\n"
     ]
    },
    {
     "name": "stderr",
     "output_type": "stream",
     "text": [
      "/tmp/ipykernel_1035996/4265846188.py:45: FutureWarning: The behavior of DataFrame concatenation with empty or all-NA entries is deprecated. In a future version, this will no longer exclude empty or all-NA columns when determining the result dtypes. To retain the old behavior, exclude the relevant entries before the concat operation.\n",
      "  result = pd.concat([result, pd.DataFrame([row])], ignore_index=True)\n"
     ]
    },
    {
     "name": "stdout",
     "output_type": "stream",
     "text": [
      "Arquivo processado e salvo: 5.100 MHz - Lb(0.01)_P528.csv\n"
     ]
    },
    {
     "name": "stderr",
     "output_type": "stream",
     "text": [
      "/tmp/ipykernel_1035996/4265846188.py:45: FutureWarning: The behavior of DataFrame concatenation with empty or all-NA entries is deprecated. In a future version, this will no longer exclude empty or all-NA columns when determining the result dtypes. To retain the old behavior, exclude the relevant entries before the concat operation.\n",
      "  result = pd.concat([result, pd.DataFrame([row])], ignore_index=True)\n"
     ]
    },
    {
     "name": "stdout",
     "output_type": "stream",
     "text": [
      "Arquivo processado e salvo: 125 MHz - Lb(0.5)_P528.csv\n"
     ]
    },
    {
     "name": "stderr",
     "output_type": "stream",
     "text": [
      "/tmp/ipykernel_1035996/4265846188.py:45: FutureWarning: The behavior of DataFrame concatenation with empty or all-NA entries is deprecated. In a future version, this will no longer exclude empty or all-NA columns when determining the result dtypes. To retain the old behavior, exclude the relevant entries before the concat operation.\n",
      "  result = pd.concat([result, pd.DataFrame([row])], ignore_index=True)\n"
     ]
    },
    {
     "name": "stdout",
     "output_type": "stream",
     "text": [
      "Arquivo processado e salvo: 300 MHz - Lb(0.95)_P528.csv\n"
     ]
    },
    {
     "name": "stderr",
     "output_type": "stream",
     "text": [
      "/tmp/ipykernel_1035996/4265846188.py:45: FutureWarning: The behavior of DataFrame concatenation with empty or all-NA entries is deprecated. In a future version, this will no longer exclude empty or all-NA columns when determining the result dtypes. To retain the old behavior, exclude the relevant entries before the concat operation.\n",
      "  result = pd.concat([result, pd.DataFrame([row])], ignore_index=True)\n"
     ]
    },
    {
     "name": "stdout",
     "output_type": "stream",
     "text": [
      "Arquivo processado e salvo: 15.500 MHz - Lb(0.05)_P528.csv\n"
     ]
    },
    {
     "name": "stderr",
     "output_type": "stream",
     "text": [
      "/tmp/ipykernel_1035996/4265846188.py:45: FutureWarning: The behavior of DataFrame concatenation with empty or all-NA entries is deprecated. In a future version, this will no longer exclude empty or all-NA columns when determining the result dtypes. To retain the old behavior, exclude the relevant entries before the concat operation.\n",
      "  result = pd.concat([result, pd.DataFrame([row])], ignore_index=True)\n"
     ]
    },
    {
     "name": "stdout",
     "output_type": "stream",
     "text": [
      "Arquivo processado e salvo: p528_results_Paraleliza.csv\n"
     ]
    },
    {
     "name": "stderr",
     "output_type": "stream",
     "text": [
      "/tmp/ipykernel_1035996/4265846188.py:45: FutureWarning: The behavior of DataFrame concatenation with empty or all-NA entries is deprecated. In a future version, this will no longer exclude empty or all-NA columns when determining the result dtypes. To retain the old behavior, exclude the relevant entries before the concat operation.\n",
      "  result = pd.concat([result, pd.DataFrame([row])], ignore_index=True)\n"
     ]
    },
    {
     "name": "stdout",
     "output_type": "stream",
     "text": [
      "Arquivo processado e salvo: 9.400 MHz - Lb(0.5)_P528.csv\n"
     ]
    },
    {
     "name": "stderr",
     "output_type": "stream",
     "text": [
      "/tmp/ipykernel_1035996/4265846188.py:45: FutureWarning: The behavior of DataFrame concatenation with empty or all-NA entries is deprecated. In a future version, this will no longer exclude empty or all-NA columns when determining the result dtypes. To retain the old behavior, exclude the relevant entries before the concat operation.\n",
      "  result = pd.concat([result, pd.DataFrame([row])], ignore_index=True)\n"
     ]
    },
    {
     "name": "stdout",
     "output_type": "stream",
     "text": [
      "Arquivo processado e salvo: 2.400 MHz - Lb(0.5)_P528.csv\n"
     ]
    },
    {
     "name": "stderr",
     "output_type": "stream",
     "text": [
      "/tmp/ipykernel_1035996/4265846188.py:45: FutureWarning: The behavior of DataFrame concatenation with empty or all-NA entries is deprecated. In a future version, this will no longer exclude empty or all-NA columns when determining the result dtypes. To retain the old behavior, exclude the relevant entries before the concat operation.\n",
      "  result = pd.concat([result, pd.DataFrame([row])], ignore_index=True)\n"
     ]
    },
    {
     "name": "stdout",
     "output_type": "stream",
     "text": [
      "Arquivo processado e salvo: 100 MHz - Lb(0.5)_P528.csv\n"
     ]
    },
    {
     "name": "stderr",
     "output_type": "stream",
     "text": [
      "/tmp/ipykernel_1035996/4265846188.py:45: FutureWarning: The behavior of DataFrame concatenation with empty or all-NA entries is deprecated. In a future version, this will no longer exclude empty or all-NA columns when determining the result dtypes. To retain the old behavior, exclude the relevant entries before the concat operation.\n",
      "  result = pd.concat([result, pd.DataFrame([row])], ignore_index=True)\n"
     ]
    },
    {
     "name": "stdout",
     "output_type": "stream",
     "text": [
      "Arquivo processado e salvo: 2.400 MHz - Lb(0.01)_P528.csv\n"
     ]
    },
    {
     "name": "stderr",
     "output_type": "stream",
     "text": [
      "/tmp/ipykernel_1035996/4265846188.py:45: FutureWarning: The behavior of DataFrame concatenation with empty or all-NA entries is deprecated. In a future version, this will no longer exclude empty or all-NA columns when determining the result dtypes. To retain the old behavior, exclude the relevant entries before the concat operation.\n",
      "  result = pd.concat([result, pd.DataFrame([row])], ignore_index=True)\n"
     ]
    },
    {
     "name": "stdout",
     "output_type": "stream",
     "text": [
      "Arquivo processado e salvo: 300 MHz - Lb(0.1)_P528.csv\n"
     ]
    },
    {
     "name": "stderr",
     "output_type": "stream",
     "text": [
      "/tmp/ipykernel_1035996/4265846188.py:45: FutureWarning: The behavior of DataFrame concatenation with empty or all-NA entries is deprecated. In a future version, this will no longer exclude empty or all-NA columns when determining the result dtypes. To retain the old behavior, exclude the relevant entries before the concat operation.\n",
      "  result = pd.concat([result, pd.DataFrame([row])], ignore_index=True)\n"
     ]
    },
    {
     "name": "stdout",
     "output_type": "stream",
     "text": [
      "Arquivo processado e salvo: 5.100 MHz - Lb(0.1)_P528.csv\n"
     ]
    },
    {
     "name": "stderr",
     "output_type": "stream",
     "text": [
      "/tmp/ipykernel_1035996/4265846188.py:45: FutureWarning: The behavior of DataFrame concatenation with empty or all-NA entries is deprecated. In a future version, this will no longer exclude empty or all-NA columns when determining the result dtypes. To retain the old behavior, exclude the relevant entries before the concat operation.\n",
      "  result = pd.concat([result, pd.DataFrame([row])], ignore_index=True)\n"
     ]
    },
    {
     "name": "stdout",
     "output_type": "stream",
     "text": [
      "Arquivo processado e salvo: 2.400 MHz - Lb(0.1)_P528.csv\n"
     ]
    },
    {
     "name": "stderr",
     "output_type": "stream",
     "text": [
      "/tmp/ipykernel_1035996/4265846188.py:45: FutureWarning: The behavior of DataFrame concatenation with empty or all-NA entries is deprecated. In a future version, this will no longer exclude empty or all-NA columns when determining the result dtypes. To retain the old behavior, exclude the relevant entries before the concat operation.\n",
      "  result = pd.concat([result, pd.DataFrame([row])], ignore_index=True)\n"
     ]
    },
    {
     "name": "stdout",
     "output_type": "stream",
     "text": [
      "Arquivo processado e salvo: 100 MHz - Lb(0.95)_P528.csv\n"
     ]
    },
    {
     "name": "stderr",
     "output_type": "stream",
     "text": [
      "/tmp/ipykernel_1035996/4265846188.py:45: FutureWarning: The behavior of DataFrame concatenation with empty or all-NA entries is deprecated. In a future version, this will no longer exclude empty or all-NA columns when determining the result dtypes. To retain the old behavior, exclude the relevant entries before the concat operation.\n",
      "  result = pd.concat([result, pd.DataFrame([row])], ignore_index=True)\n"
     ]
    },
    {
     "name": "stdout",
     "output_type": "stream",
     "text": [
      "Arquivo processado e salvo: 9.400 MHz - Lb(0.05)_P528.csv\n"
     ]
    },
    {
     "name": "stderr",
     "output_type": "stream",
     "text": [
      "/tmp/ipykernel_1035996/4265846188.py:45: FutureWarning: The behavior of DataFrame concatenation with empty or all-NA entries is deprecated. In a future version, this will no longer exclude empty or all-NA columns when determining the result dtypes. To retain the old behavior, exclude the relevant entries before the concat operation.\n",
      "  result = pd.concat([result, pd.DataFrame([row])], ignore_index=True)\n"
     ]
    },
    {
     "name": "stdout",
     "output_type": "stream",
     "text": [
      "Arquivo processado e salvo: 9.400 MHz - Lb(0.1)_P528.csv\n"
     ]
    },
    {
     "name": "stderr",
     "output_type": "stream",
     "text": [
      "/tmp/ipykernel_1035996/4265846188.py:45: FutureWarning: The behavior of DataFrame concatenation with empty or all-NA entries is deprecated. In a future version, this will no longer exclude empty or all-NA columns when determining the result dtypes. To retain the old behavior, exclude the relevant entries before the concat operation.\n",
      "  result = pd.concat([result, pd.DataFrame([row])], ignore_index=True)\n"
     ]
    },
    {
     "name": "stdout",
     "output_type": "stream",
     "text": [
      "Arquivo processado e salvo: 600 MHz - Lb(0.95)_P528.csv\n"
     ]
    },
    {
     "name": "stderr",
     "output_type": "stream",
     "text": [
      "/tmp/ipykernel_1035996/4265846188.py:45: FutureWarning: The behavior of DataFrame concatenation with empty or all-NA entries is deprecated. In a future version, this will no longer exclude empty or all-NA columns when determining the result dtypes. To retain the old behavior, exclude the relevant entries before the concat operation.\n",
      "  result = pd.concat([result, pd.DataFrame([row])], ignore_index=True)\n"
     ]
    },
    {
     "name": "stdout",
     "output_type": "stream",
     "text": [
      "Arquivo processado e salvo: 5.100 MHz - Lb(0.5)_P528.csv\n"
     ]
    },
    {
     "name": "stderr",
     "output_type": "stream",
     "text": [
      "/tmp/ipykernel_1035996/4265846188.py:45: FutureWarning: The behavior of DataFrame concatenation with empty or all-NA entries is deprecated. In a future version, this will no longer exclude empty or all-NA columns when determining the result dtypes. To retain the old behavior, exclude the relevant entries before the concat operation.\n",
      "  result = pd.concat([result, pd.DataFrame([row])], ignore_index=True)\n"
     ]
    },
    {
     "name": "stdout",
     "output_type": "stream",
     "text": [
      "Arquivo processado e salvo: 600 MHz - Lb(0.05)_P528.csv\n"
     ]
    },
    {
     "name": "stderr",
     "output_type": "stream",
     "text": [
      "/tmp/ipykernel_1035996/4265846188.py:45: FutureWarning: The behavior of DataFrame concatenation with empty or all-NA entries is deprecated. In a future version, this will no longer exclude empty or all-NA columns when determining the result dtypes. To retain the old behavior, exclude the relevant entries before the concat operation.\n",
      "  result = pd.concat([result, pd.DataFrame([row])], ignore_index=True)\n"
     ]
    },
    {
     "name": "stdout",
     "output_type": "stream",
     "text": [
      "Arquivo processado e salvo: 1.200 MHz - Lb(0.95)_P528.csv\n"
     ]
    },
    {
     "name": "stderr",
     "output_type": "stream",
     "text": [
      "/tmp/ipykernel_1035996/4265846188.py:45: FutureWarning: The behavior of DataFrame concatenation with empty or all-NA entries is deprecated. In a future version, this will no longer exclude empty or all-NA columns when determining the result dtypes. To retain the old behavior, exclude the relevant entries before the concat operation.\n",
      "  result = pd.concat([result, pd.DataFrame([row])], ignore_index=True)\n"
     ]
    },
    {
     "name": "stdout",
     "output_type": "stream",
     "text": [
      "Arquivo processado e salvo: 1.200 MHz - Lb(0.01)_P528.csv\n"
     ]
    },
    {
     "name": "stderr",
     "output_type": "stream",
     "text": [
      "/tmp/ipykernel_1035996/4265846188.py:45: FutureWarning: The behavior of DataFrame concatenation with empty or all-NA entries is deprecated. In a future version, this will no longer exclude empty or all-NA columns when determining the result dtypes. To retain the old behavior, exclude the relevant entries before the concat operation.\n",
      "  result = pd.concat([result, pd.DataFrame([row])], ignore_index=True)\n"
     ]
    },
    {
     "name": "stdout",
     "output_type": "stream",
     "text": [
      "Arquivo processado e salvo: 30.000 MHz - Lb(0.95)_P528.csv\n"
     ]
    },
    {
     "name": "stderr",
     "output_type": "stream",
     "text": [
      "/tmp/ipykernel_1035996/4265846188.py:45: FutureWarning: The behavior of DataFrame concatenation with empty or all-NA entries is deprecated. In a future version, this will no longer exclude empty or all-NA columns when determining the result dtypes. To retain the old behavior, exclude the relevant entries before the concat operation.\n",
      "  result = pd.concat([result, pd.DataFrame([row])], ignore_index=True)\n"
     ]
    },
    {
     "name": "stdout",
     "output_type": "stream",
     "text": [
      "Arquivo processado e salvo: 30.000 MHz - Lb(0.01)_P528.csv\n"
     ]
    },
    {
     "name": "stderr",
     "output_type": "stream",
     "text": [
      "/tmp/ipykernel_1035996/4265846188.py:45: FutureWarning: The behavior of DataFrame concatenation with empty or all-NA entries is deprecated. In a future version, this will no longer exclude empty or all-NA columns when determining the result dtypes. To retain the old behavior, exclude the relevant entries before the concat operation.\n",
      "  result = pd.concat([result, pd.DataFrame([row])], ignore_index=True)\n"
     ]
    },
    {
     "name": "stdout",
     "output_type": "stream",
     "text": [
      "Arquivo processado e salvo: 125 MHz - Lb(0.95)_P528.csv\n"
     ]
    },
    {
     "name": "stderr",
     "output_type": "stream",
     "text": [
      "/tmp/ipykernel_1035996/4265846188.py:45: FutureWarning: The behavior of DataFrame concatenation with empty or all-NA entries is deprecated. In a future version, this will no longer exclude empty or all-NA columns when determining the result dtypes. To retain the old behavior, exclude the relevant entries before the concat operation.\n",
      "  result = pd.concat([result, pd.DataFrame([row])], ignore_index=True)\n"
     ]
    },
    {
     "name": "stdout",
     "output_type": "stream",
     "text": [
      "Arquivo processado e salvo: 30.000 MHz - Lb(0.1)_P528.csv\n"
     ]
    },
    {
     "name": "stderr",
     "output_type": "stream",
     "text": [
      "/tmp/ipykernel_1035996/4265846188.py:45: FutureWarning: The behavior of DataFrame concatenation with empty or all-NA entries is deprecated. In a future version, this will no longer exclude empty or all-NA columns when determining the result dtypes. To retain the old behavior, exclude the relevant entries before the concat operation.\n",
      "  result = pd.concat([result, pd.DataFrame([row])], ignore_index=True)\n"
     ]
    },
    {
     "name": "stdout",
     "output_type": "stream",
     "text": [
      "Arquivo processado e salvo: 300 MHz - Lb(0.5)_P528.csv\n"
     ]
    },
    {
     "name": "stderr",
     "output_type": "stream",
     "text": [
      "/tmp/ipykernel_1035996/4265846188.py:45: FutureWarning: The behavior of DataFrame concatenation with empty or all-NA entries is deprecated. In a future version, this will no longer exclude empty or all-NA columns when determining the result dtypes. To retain the old behavior, exclude the relevant entries before the concat operation.\n",
      "  result = pd.concat([result, pd.DataFrame([row])], ignore_index=True)\n"
     ]
    },
    {
     "name": "stdout",
     "output_type": "stream",
     "text": [
      "Arquivo processado e salvo: 15.500 MHz - Lb(0.5)_P528.csv\n"
     ]
    },
    {
     "name": "stderr",
     "output_type": "stream",
     "text": [
      "/tmp/ipykernel_1035996/4265846188.py:45: FutureWarning: The behavior of DataFrame concatenation with empty or all-NA entries is deprecated. In a future version, this will no longer exclude empty or all-NA columns when determining the result dtypes. To retain the old behavior, exclude the relevant entries before the concat operation.\n",
      "  result = pd.concat([result, pd.DataFrame([row])], ignore_index=True)\n"
     ]
    },
    {
     "name": "stdout",
     "output_type": "stream",
     "text": [
      "Arquivo processado e salvo: 125 MHz - Lb(0.01)_P528.csv\n"
     ]
    },
    {
     "name": "stderr",
     "output_type": "stream",
     "text": [
      "/tmp/ipykernel_1035996/4265846188.py:45: FutureWarning: The behavior of DataFrame concatenation with empty or all-NA entries is deprecated. In a future version, this will no longer exclude empty or all-NA columns when determining the result dtypes. To retain the old behavior, exclude the relevant entries before the concat operation.\n",
      "  result = pd.concat([result, pd.DataFrame([row])], ignore_index=True)\n"
     ]
    },
    {
     "name": "stdout",
     "output_type": "stream",
     "text": [
      "Arquivo processado e salvo: 15.500 MHz - Lb(0.01)_P528.csv\n"
     ]
    },
    {
     "name": "stderr",
     "output_type": "stream",
     "text": [
      "/tmp/ipykernel_1035996/4265846188.py:45: FutureWarning: The behavior of DataFrame concatenation with empty or all-NA entries is deprecated. In a future version, this will no longer exclude empty or all-NA columns when determining the result dtypes. To retain the old behavior, exclude the relevant entries before the concat operation.\n",
      "  result = pd.concat([result, pd.DataFrame([row])], ignore_index=True)\n"
     ]
    },
    {
     "name": "stdout",
     "output_type": "stream",
     "text": [
      "Arquivo processado e salvo: 5.100 MHz - Lb(0.95)_P528.csv\n"
     ]
    },
    {
     "name": "stderr",
     "output_type": "stream",
     "text": [
      "/tmp/ipykernel_1035996/4265846188.py:45: FutureWarning: The behavior of DataFrame concatenation with empty or all-NA entries is deprecated. In a future version, this will no longer exclude empty or all-NA columns when determining the result dtypes. To retain the old behavior, exclude the relevant entries before the concat operation.\n",
      "  result = pd.concat([result, pd.DataFrame([row])], ignore_index=True)\n"
     ]
    },
    {
     "name": "stdout",
     "output_type": "stream",
     "text": [
      "Arquivo processado e salvo: 300 MHz - Lb(0.01)_P528.csv\n"
     ]
    },
    {
     "name": "stderr",
     "output_type": "stream",
     "text": [
      "/tmp/ipykernel_1035996/4265846188.py:45: FutureWarning: The behavior of DataFrame concatenation with empty or all-NA entries is deprecated. In a future version, this will no longer exclude empty or all-NA columns when determining the result dtypes. To retain the old behavior, exclude the relevant entries before the concat operation.\n",
      "  result = pd.concat([result, pd.DataFrame([row])], ignore_index=True)\n"
     ]
    },
    {
     "name": "stdout",
     "output_type": "stream",
     "text": [
      "Arquivo processado e salvo: 600 MHz - Lb(0.01)_P528.csv\n"
     ]
    },
    {
     "name": "stderr",
     "output_type": "stream",
     "text": [
      "/tmp/ipykernel_1035996/4265846188.py:45: FutureWarning: The behavior of DataFrame concatenation with empty or all-NA entries is deprecated. In a future version, this will no longer exclude empty or all-NA columns when determining the result dtypes. To retain the old behavior, exclude the relevant entries before the concat operation.\n",
      "  result = pd.concat([result, pd.DataFrame([row])], ignore_index=True)\n"
     ]
    },
    {
     "name": "stdout",
     "output_type": "stream",
     "text": [
      "Arquivo processado e salvo: 2.400 MHz - Lb(0.95)_P528.csv\n"
     ]
    },
    {
     "name": "stderr",
     "output_type": "stream",
     "text": [
      "/tmp/ipykernel_1035996/4265846188.py:45: FutureWarning: The behavior of DataFrame concatenation with empty or all-NA entries is deprecated. In a future version, this will no longer exclude empty or all-NA columns when determining the result dtypes. To retain the old behavior, exclude the relevant entries before the concat operation.\n",
      "  result = pd.concat([result, pd.DataFrame([row])], ignore_index=True)\n"
     ]
    },
    {
     "name": "stdout",
     "output_type": "stream",
     "text": [
      "Arquivo processado e salvo: 9.400 MHz - Lb(0.95)_P528.csv\n"
     ]
    },
    {
     "name": "stderr",
     "output_type": "stream",
     "text": [
      "/tmp/ipykernel_1035996/4265846188.py:45: FutureWarning: The behavior of DataFrame concatenation with empty or all-NA entries is deprecated. In a future version, this will no longer exclude empty or all-NA columns when determining the result dtypes. To retain the old behavior, exclude the relevant entries before the concat operation.\n",
      "  result = pd.concat([result, pd.DataFrame([row])], ignore_index=True)\n"
     ]
    },
    {
     "name": "stdout",
     "output_type": "stream",
     "text": [
      "Arquivo processado e salvo: 15.500 MHz - Lb(0.95)_P528.csv\n"
     ]
    },
    {
     "name": "stderr",
     "output_type": "stream",
     "text": [
      "/tmp/ipykernel_1035996/4265846188.py:45: FutureWarning: The behavior of DataFrame concatenation with empty or all-NA entries is deprecated. In a future version, this will no longer exclude empty or all-NA columns when determining the result dtypes. To retain the old behavior, exclude the relevant entries before the concat operation.\n",
      "  result = pd.concat([result, pd.DataFrame([row])], ignore_index=True)\n"
     ]
    },
    {
     "name": "stdout",
     "output_type": "stream",
     "text": [
      "Arquivo processado e salvo: 100 MHz - Lb(0.01)_P528.csv\n"
     ]
    },
    {
     "name": "stderr",
     "output_type": "stream",
     "text": [
      "/tmp/ipykernel_1035996/4265846188.py:45: FutureWarning: The behavior of DataFrame concatenation with empty or all-NA entries is deprecated. In a future version, this will no longer exclude empty or all-NA columns when determining the result dtypes. To retain the old behavior, exclude the relevant entries before the concat operation.\n",
      "  result = pd.concat([result, pd.DataFrame([row])], ignore_index=True)\n"
     ]
    },
    {
     "name": "stdout",
     "output_type": "stream",
     "text": [
      "Arquivo processado e salvo: 125 MHz - Lb(0.05)_P528.csv\n"
     ]
    },
    {
     "name": "stderr",
     "output_type": "stream",
     "text": [
      "/tmp/ipykernel_1035996/4265846188.py:45: FutureWarning: The behavior of DataFrame concatenation with empty or all-NA entries is deprecated. In a future version, this will no longer exclude empty or all-NA columns when determining the result dtypes. To retain the old behavior, exclude the relevant entries before the concat operation.\n",
      "  result = pd.concat([result, pd.DataFrame([row])], ignore_index=True)\n"
     ]
    },
    {
     "name": "stdout",
     "output_type": "stream",
     "text": [
      "Arquivo processado e salvo: 300 MHz - Lb(0.05)_P528.csv\n"
     ]
    },
    {
     "name": "stderr",
     "output_type": "stream",
     "text": [
      "/tmp/ipykernel_1035996/4265846188.py:45: FutureWarning: The behavior of DataFrame concatenation with empty or all-NA entries is deprecated. In a future version, this will no longer exclude empty or all-NA columns when determining the result dtypes. To retain the old behavior, exclude the relevant entries before the concat operation.\n",
      "  result = pd.concat([result, pd.DataFrame([row])], ignore_index=True)\n"
     ]
    },
    {
     "name": "stdout",
     "output_type": "stream",
     "text": [
      "Arquivo processado e salvo: 30.000 MHz - Lb(0.05)_P528.csv\n"
     ]
    },
    {
     "name": "stderr",
     "output_type": "stream",
     "text": [
      "/tmp/ipykernel_1035996/4265846188.py:45: FutureWarning: The behavior of DataFrame concatenation with empty or all-NA entries is deprecated. In a future version, this will no longer exclude empty or all-NA columns when determining the result dtypes. To retain the old behavior, exclude the relevant entries before the concat operation.\n",
      "  result = pd.concat([result, pd.DataFrame([row])], ignore_index=True)\n"
     ]
    },
    {
     "name": "stdout",
     "output_type": "stream",
     "text": [
      "Arquivo processado e salvo: 15.500 MHz - Lb(0.1)_P528.csv\n"
     ]
    },
    {
     "name": "stderr",
     "output_type": "stream",
     "text": [
      "/tmp/ipykernel_1035996/4265846188.py:45: FutureWarning: The behavior of DataFrame concatenation with empty or all-NA entries is deprecated. In a future version, this will no longer exclude empty or all-NA columns when determining the result dtypes. To retain the old behavior, exclude the relevant entries before the concat operation.\n",
      "  result = pd.concat([result, pd.DataFrame([row])], ignore_index=True)\n"
     ]
    },
    {
     "name": "stdout",
     "output_type": "stream",
     "text": [
      "Arquivo processado e salvo: 1.200 MHz - Lb(0.05)_P528.csv\n"
     ]
    },
    {
     "name": "stderr",
     "output_type": "stream",
     "text": [
      "/tmp/ipykernel_1035996/4265846188.py:45: FutureWarning: The behavior of DataFrame concatenation with empty or all-NA entries is deprecated. In a future version, this will no longer exclude empty or all-NA columns when determining the result dtypes. To retain the old behavior, exclude the relevant entries before the concat operation.\n",
      "  result = pd.concat([result, pd.DataFrame([row])], ignore_index=True)\n"
     ]
    },
    {
     "name": "stdout",
     "output_type": "stream",
     "text": [
      "Arquivo processado e salvo: 9.400 MHz - Lb(0.01)_P528.csv\n"
     ]
    },
    {
     "name": "stderr",
     "output_type": "stream",
     "text": [
      "/tmp/ipykernel_1035996/4265846188.py:45: FutureWarning: The behavior of DataFrame concatenation with empty or all-NA entries is deprecated. In a future version, this will no longer exclude empty or all-NA columns when determining the result dtypes. To retain the old behavior, exclude the relevant entries before the concat operation.\n",
      "  result = pd.concat([result, pd.DataFrame([row])], ignore_index=True)\n"
     ]
    },
    {
     "name": "stdout",
     "output_type": "stream",
     "text": [
      "Arquivo processado e salvo: 1.200 MHz - Lb(0.5)_P528.csv\n"
     ]
    },
    {
     "name": "stderr",
     "output_type": "stream",
     "text": [
      "/tmp/ipykernel_1035996/4265846188.py:45: FutureWarning: The behavior of DataFrame concatenation with empty or all-NA entries is deprecated. In a future version, this will no longer exclude empty or all-NA columns when determining the result dtypes. To retain the old behavior, exclude the relevant entries before the concat operation.\n",
      "  result = pd.concat([result, pd.DataFrame([row])], ignore_index=True)\n"
     ]
    },
    {
     "name": "stdout",
     "output_type": "stream",
     "text": [
      "Arquivo processado e salvo: 1.200 MHz - Lb(0.1)_P528.csv\n"
     ]
    },
    {
     "name": "stderr",
     "output_type": "stream",
     "text": [
      "/tmp/ipykernel_1035996/4265846188.py:45: FutureWarning: The behavior of DataFrame concatenation with empty or all-NA entries is deprecated. In a future version, this will no longer exclude empty or all-NA columns when determining the result dtypes. To retain the old behavior, exclude the relevant entries before the concat operation.\n",
      "  result = pd.concat([result, pd.DataFrame([row])], ignore_index=True)\n"
     ]
    },
    {
     "name": "stdout",
     "output_type": "stream",
     "text": [
      "Arquivo processado e salvo: 600 MHz - Lb(0.1)_P528.csv\n",
      "Todos os arquivos foram processados.\n"
     ]
    }
   ],
   "source": [
    "import pandas as pd\n",
    "import os\n",
    "\n",
    "# Lista das combinações desejadas de h1 e h2\n",
    "h1_values = [1.5, 15, 30, 60, 1000, 10000, 20000]\n",
    "h2_values = [1000, 10000, 20000]\n",
    "\n",
    "# Criação das colunas dinamicamente\n",
    "columns = [\"D (km)\"] + [f\"h1={h1}_h2={h2}\" for h1 in h1_values for h2 in h2_values]\n",
    "\n",
    "# Caminho da pasta contendo os arquivos CSV\n",
    "pasta_arquivos = '/home/raulm/anatel/P528py/scalar/Data Table Gen'\n",
    "\n",
    "# Percorrer todos os arquivos CSV na pasta\n",
    "for filename in os.listdir(pasta_arquivos):\n",
    "    if filename.endswith('.csv'):\n",
    "        # Caminho completo do arquivo\n",
    "        file_path = os.path.join(pasta_arquivos, filename)\n",
    "        \n",
    "        # Carregar o DataFrame a partir do CSV\n",
    "        df = pd.read_csv(file_path)\n",
    "        \n",
    "        # Criação do DataFrame vazio para os resultados\n",
    "        result = pd.DataFrame(columns=columns)\n",
    "        \n",
    "        # Agrupar e preencher o DataFrame resultante\n",
    "        for d in df['d__km'].unique():\n",
    "            # Criação de um dicionário para cada linha\n",
    "            row = {'D (km)': d}\n",
    "\n",
    "            for h1 in h1_values:\n",
    "                for h2 in h2_values:\n",
    "                    col_name = f\"h1={h1}_h2={h2}\"\n",
    "                    # Filtrar para encontrar a combinação de d, h1 e h2\n",
    "                    match = df[(df['d__km'] == d) & (df['h_1__meter'] == h1) & (df['h_2__meter'] == h2)]\n",
    "\n",
    "                    if not match.empty:\n",
    "                        # Se houver correspondência, adicionar a Perda_total_dB\n",
    "                        row[col_name] = match['Perda_total_dB'].values[0]\n",
    "                    else:\n",
    "                        # Se não houver correspondência, preencher com 0.0\n",
    "                        row[col_name] = 0.0\n",
    "\n",
    "            # Adicionar a linha ao DataFrame de resultados usando pd.concat()\n",
    "            result = pd.concat([result, pd.DataFrame([row])], ignore_index=True)\n",
    "\n",
    "        # Salvar o DataFrame resultante no mesmo caminho, sobrescrevendo o arquivo original\n",
    "        result.to_csv(file_path, index=False)\n",
    "        \n",
    "        print(f\"Arquivo processado e salvo: {filename}\")\n",
    "\n",
    "print(\"Todos os arquivos foram processados.\")\n"
   ]
  },
  {
   "cell_type": "code",
   "execution_count": 17,
   "id": "af319841-2b01-45c5-9a4f-072492515eac",
   "metadata": {},
   "outputs": [],
   "source": [
    "a=\"/home/raulm/anatel/P528py/Data Tables/1,200 MHz - Lb(0.01)_P528.csv\"\n",
    "df= pd.read_csv(a)"
   ]
  },
  {
   "cell_type": "code",
   "execution_count": 18,
   "id": "981624b7-e05e-4249-aed5-a1e81a2528a3",
   "metadata": {},
   "outputs": [
    {
     "data": {
      "image/png": "[encoded data removed]",
      "text/plain": [
       "<Figure size 1000x600 with 1 Axes>"
      ]
     },
     "metadata": {},
     "output_type": "display_data"
    }
   ],
   "source": [
    "import pandas as pd\n",
    "import os\n",
    "import matplotlib.pyplot as plt\n",
    "\n",
    "# Caminhos das pastas\n",
    "pasta_gerar = \"/home/raulm/anatel/P528py/scalar/Data Table Gen\"\n",
    "pasta_data_tables = '/home/raulm/anatel/p528_article/Data Tables'\n",
    "\n",
    "# Dicionário para armazenar os contadores de erros por magnitude\n",
    "contagem_erros = {\n",
    "    '10**-1': 0,\n",
    "    '10**-2': 0,\n",
    "    '10**-3': 0,\n",
    "    '10**-4': 0,\n",
    "    '10**-5': 0,\n",
    "}\n",
    "\n",
    "# Função para calcular a taxa de erro e classificar por magnitude\n",
    "def calcular_taxa_erro(df1, df2):\n",
    "    for coluna in df1.columns:\n",
    "        if coluna in df2.columns:\n",
    "            erro = (df1[coluna] - df2[coluna]).abs()\n",
    "            porcentagem_erro = (erro / df2[coluna]).dropna() * 100\n",
    "\n",
    "            # Classificar os erros por magnitude\n",
    "            for erro in porcentagem_erro:\n",
    "                if erro >= 10**-1:\n",
    "                    contagem_erros['10**-1'] += 1\n",
    "                elif erro >= 10**-2:\n",
    "                    contagem_erros['10**-2'] += 1\n",
    "                elif erro >= 10**-3:\n",
    "                    contagem_erros['10**-3'] += 1\n",
    "                elif erro >= 10**-4:\n",
    "                    contagem_erros['10**-4'] += 1\n",
    "                elif erro >= 10**-5:\n",
    "                    contagem_erros['10**-5'] += 1\n",
    "\n",
    "# Comparar os arquivos CSV\n",
    "for arquivo in os.listdir(pasta_gerar):\n",
    "    if arquivo.endswith('.csv'):\n",
    "        caminho_gerar = os.path.join(pasta_gerar, arquivo)\n",
    "        caminho_data_tables = os.path.join(pasta_data_tables, arquivo)\n",
    "\n",
    "        if os.path.exists(caminho_data_tables):\n",
    "            # Carregar os arquivos CSV, desconsiderando a primeira linha dos arquivos de \"gerar\" e a última linha dos arquivos de \"Data Tables\"\n",
    "            df_gerar = pd.read_csv(caminho_gerar).iloc[1:].reset_index(drop=True)  # Ignora a primeira linha e reseta o índice\n",
    "            df_data_tables = pd.read_csv(caminho_data_tables).reset_index(drop=True)  # Ignora a última linha\n",
    "\n",
    "            # Calcular a taxa de erro\n",
    "            calcular_taxa_erro(df_gerar, df_data_tables)\n",
    "\n",
    "# Preparar dados para o gráfico\n",
    "magnitudes = list(contagem_erros.keys())\n",
    "valores = list(contagem_erros.values())\n",
    "\n",
    "# Criar o gráfico de barras\n",
    "plt.figure(figsize=(10, 6))\n",
    "plt.bar(magnitudes, valores, color='blue')\n",
    "plt.title('Contagem de Erros por Magnitude')\n",
    "plt.xlabel('Magnitude do Erro')\n",
    "plt.ylabel('Quantidade de Erros')\n",
    "plt.grid(True)\n",
    "plt.show()"
   ]
  },
  {
   "cell_type": "code",
   "execution_count": 5,
   "id": "4955ddf6-ba92-452f-885f-44532f21863a",
   "metadata": {},
   "outputs": [
    {
     "name": "stdout",
     "output_type": "stream",
     "text": [
      "   D (km)  h1=1.5_h2=1000  h1=1.5_h2=10000  h1=1.5_h2=20000  h1=15_h2=1000  \\\n",
      "0       0           111.9            119.5            119.4          119.3   \n",
      "1       1           114.9            123.6            123.4          123.2   \n",
      "2       2           118.9            128.5            128.4          128.3   \n",
      "3       3           121.9            131.8            131.8          131.8   \n",
      "4       4           124.2            134.3            134.3          134.3   \n",
      "\n",
      "   h1=15_h2=10000  h1=15_h2=20000  h1=30_h2=1000  h1=30_h2=10000  \\\n",
      "0           119.0             0.0          139.6           139.6   \n",
      "1           122.9           115.3          139.6           139.5   \n",
      "2           128.2           124.3          139.7           139.7   \n",
      "3           131.7           129.6          139.9           139.9   \n",
      "4           134.2           132.9          140.3           140.3   \n",
      "\n",
      "   h1=30_h2=20000  ...  h1=60_h2=20000  h1=1000_h2=1000  h1=1000_h2=10000  \\\n",
      "0           139.5  ...             0.0            145.6             145.6   \n",
      "1           139.5  ...           112.4            145.6             145.6   \n",
      "2           139.6  ...           118.6            145.6             145.6   \n",
      "3           139.9  ...           122.5            145.6             145.6   \n",
      "4           140.2  ...           125.3            145.7             145.7   \n",
      "\n",
      "   h1=1000_h2=20000  h1=10000_h2=1000  h1=10000_h2=10000  h1=10000_h2=20000  \\\n",
      "0             145.6             145.6              145.1              139.5   \n",
      "1             145.5             145.5              144.4              134.2   \n",
      "2             145.5             145.5              144.4              134.3   \n",
      "3             145.6             145.5              144.4              134.5   \n",
      "4             145.6             145.6              144.5              134.8   \n",
      "\n",
      "   h1=20000_h2=1000  h1=20000_h2=10000  h1=20000_h2=20000  \n",
      "0               0.0                NaN                NaN  \n",
      "1             112.2                NaN                NaN  \n",
      "2             118.4                NaN                NaN  \n",
      "3             122.0                NaN                NaN  \n",
      "4             124.6                NaN                NaN  \n",
      "\n",
      "[5 rows x 22 columns]\n"
     ]
    },
    {
     "data": {
      "text/plain": [
       "<Figure size 1500x800 with 0 Axes>"
      ]
     },
     "metadata": {},
     "output_type": "display_data"
    },
    {
     "data": {
      "image/png": "[encoded data removed]",
      "text/plain": [
       "<Figure size 640x480 with 1 Axes>"
      ]
     },
     "metadata": {},
     "output_type": "display_data"
    }
   ],
   "source": [
    "\n",
    "import pandas as pd\n",
    "import matplotlib.pyplot as plt\n",
    "import os\n",
    "\n",
    "# Caminho da pasta gerar e arquivo específico\n",
    "#pasta_gerar = 'arquivos'\n",
    "\n",
    "caminho_csv = \"/home/raulm/anatel/P528py/Data Tables/9,400 MHz - Lb(0.95)_P528 copy.csv\"\n",
    "#caminho_csv = os.path.join(pasta_gerar, arquivo_csv)\n",
    "\n",
    "# Carregar o arquivo CSV\n",
    "df = pd.read_csv(caminho_csv)\n",
    "\n",
    "print(df.head())\n",
    "\n",
    "# Selecionar as colunas específicas\n",
    "colunas_selecionadas = ['h1=1.5_h2=1000', 'h1=15_h2=1000', 'h1=30_h2=1000', 'h1=60_h2=1000', 'h1=1000_h2=1000']\n",
    "df_selecionado = df[colunas_selecionadas]\n",
    "\n",
    "# Plotar o gráfico\n",
    "plt.figure(figsize=(15, 8))\n",
    "df_selecionado.plot(kind='line', marker='o')\n",
    "\n",
    "# Personalizar o gráfico\n",
    "plt.title('Frequência=1200 p=0.95')\n",
    "plt.xlabel('D')\n",
    "plt.ylabel('Loss')\n",
    "plt.grid(True)\n",
    "plt.legend(title='')\n",
    "plt.tight_layout()\n",
    "\n",
    "# Mostrar o gráfico\n",
    "plt.show()\n"
   ]
  },
  {
   "cell_type": "code",
   "execution_count": 6,
   "id": "72ad0f24-f757-4a12-a50d-730c743bc857",
   "metadata": {},
   "outputs": [
    {
     "data": {
      "image/png": "[encoded data removed]",
      "text/plain": [
       "<Figure size 1500x800 with 1 Axes>"
      ]
     },
     "metadata": {},
     "output_type": "display_data"
    }
   ],
   "source": [
    "plt.figure(figsize=(15, 8))\n",
    "\n",
    "# Aqui aplicamos a espessura da linha em cada coluna selecionada\n",
    "for coluna in df_selecionado.columns:\n",
    "    plt.plot(df_selecionado.index, df_selecionado[coluna], label=coluna, marker='o', linewidth=0.8)  # Linhas mais finas\n",
    "\n",
    "# Personalizar o gráfico\n",
    "plt.title('Frequência=1200 p=0.95')\n",
    "plt.xlabel('D')\n",
    "plt.ylabel('Loss')\n",
    "plt.grid(True)\n",
    "plt.legend(title='')\n",
    "plt.tight_layout()\n",
    "\n",
    "# Mostrar o gráfico\n",
    "plt.show()"
   ]
  },
  {
   "cell_type": "code",
   "execution_count": null,
   "id": "8a200bbc-2a2e-4f4d-bfa9-fefecfb81908",
   "metadata": {},
   "outputs": [],
   "source": []
  }
 ],
 "metadata": {
  "kernelspec": {
   "display_name": "Python 3 (ipykernel)",
   "language": "python",
   "name": "python3"
  },
  "language_info": {
   "codemirror_mode": {
    "name": "ipython",
    "version": 3
   },
   "file_extension": ".py",
   "mimetype": "text/x-python",
   "name": "python",
   "nbconvert_exporter": "python",
   "pygments_lexer": "ipython3",
   "version": "3.10.12"
  }
 },
 "nbformat": 4,
 "nbformat_minor": 5
}
